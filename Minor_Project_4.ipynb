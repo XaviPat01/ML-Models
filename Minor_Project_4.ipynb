{
  "nbformat": 4,
  "nbformat_minor": 0,
  "metadata": {
    "colab": {
      "name": "Minor_Project_4.ipynb",
      "provenance": [],
      "collapsed_sections": [],
      "authorship_tag": "ABX9TyN9Irid1FZc7jW27/smEuTR",
      "include_colab_link": true
    },
    "kernelspec": {
      "name": "python3",
      "display_name": "Python 3"
    },
    "language_info": {
      "name": "python"
    }
  },
  "cells": [
    {
      "cell_type": "markdown",
      "metadata": {
        "id": "view-in-github",
        "colab_type": "text"
      },
      "source": [
        "<a href=\"https://colab.research.google.com/github/XaviPat01/ML_TechAnalogy_Workshop/blob/main/Minor_Project_4.ipynb\" target=\"_parent\"><img src=\"https://colab.research.google.com/assets/colab-badge.svg\" alt=\"Open In Colab\"/></a>"
      ]
    },
    {
      "cell_type": "markdown",
      "metadata": {
        "id": "1N0NkbvOce5H"
      },
      "source": [
        "# **Implementing SVM from scratch**\n",
        "> **Author**: Avi Patni\n",
        "\n",
        "Basic implementation of a **linear SVM** model using **numpy**\n",
        "\n",
        "For visualization, **matplotlib.pyplot**\n",
        "\n",
        "For producing a random dataset, **sklearn.datasets**"
      ]
    },
    {
      "cell_type": "code",
      "metadata": {
        "id": "v7CNRzuWdEmh"
      },
      "source": [
        "#Importing Necessary Libraries\n",
        "import numpy as np\n",
        "import mlxtend\n",
        "np.random.seed(21)\n",
        "import matplotlib.pyplot as plt\n",
        "import matplotlib.axes as axes\n",
        "from sklearn.datasets import make_blobs\n",
        "from sklearn.preprocessing import MinMaxScaler"
      ],
      "execution_count": 123,
      "outputs": []
    },
    {
      "cell_type": "markdown",
      "metadata": {
        "id": "TLMhAisgd3i0"
      },
      "source": [
        "We need a data-set to train and test our model\n",
        "\n",
        "We'll make one using sklearn.datasets.samples_generator"
      ]
    },
    {
      "cell_type": "code",
      "metadata": {
        "colab": {
          "base_uri": "https://localhost:8080/",
          "height": 265
        },
        "id": "X1xR2v5BdfnD",
        "outputId": "71722daa-fb60-4bc4-9cca-1115b1d12dbf"
      },
      "source": [
        "#Toy data-set\n",
        "\n",
        "(X,y) = make_blobs(n_samples = 50, n_features=2, centers=2, cluster_std = 1.2, random_state=21)\n",
        "X1 = np.array(X)\n",
        "Xvals = list(X1[:,0])\n",
        "\n",
        "plt.scatter(Xvals, X1[:,1], marker='o',c=y)\n",
        "plt.show()"
      ],
      "execution_count": 124,
      "outputs": [
        {
          "output_type": "display_data",
          "data": {
            "image/png": "[encoded data removed]",
            "text/plain": [
              "<Figure size 432x288 with 1 Axes>"
            ]
          },
          "metadata": {
            "needs_background": "light"
          }
        }
      ]
    },
    {
      "cell_type": "code",
      "metadata": {
        "colab": {
          "base_uri": "https://localhost:8080/"
        },
        "id": "HAVukxfdkQ3D",
        "outputId": "11f1e721-d62e-4a10-aa15-339cec8f08bc"
      },
      "source": [
        "print(Xvals)\n",
        "print(\"Next\")\n",
        "print(X1)"
      ],
      "execution_count": 154,
      "outputs": [
        {
          "output_type": "stream",
          "text": [
            "[3.882108018107316, 4.917521185483183, -7.671729531244933, 5.091602490666139, 3.5866039757469963, -10.556049414978878, -9.367772431317103, -8.252511254485842, 4.834897474908876, 3.948290449310308, -9.425422086550327, 4.2639404169960375, -8.195193931036377, -9.761342728113295, -9.533463383285142, -9.574770255010788, -10.29973032570296, 0.9877013535618224, 5.659662098043961, 5.822144474676992, -8.830691423660838, -7.144043771870745, 4.671575606154061, 5.103852027767903, 3.956311770403606, 2.039393542587878, 6.832278306640327, -8.731545653387633, 5.554402218320057, -9.054106006262629, 4.087613761759482, 4.2580649565544135, 3.976730712599706, 6.279644964913654, -9.272539641886574, -8.44905907317789, -10.686250626110711, -9.582324846119214, -8.54223383433443, -7.921364901250492, 3.002270314264943, -8.131037166020734, 4.9404964104066185, -7.0923120120914405, -7.775346224916499, -10.797232930211987, 5.701194721746143, 4.109886259924875, 2.7338185158846784, -8.669484947183514]\n",
            "Next\n",
            "[[  3.88210802  -9.70697582]\n",
            " [  4.91752119  -8.67045708]\n",
            " [ -7.67172953  -4.23295795]\n",
            " [  5.09160249  -8.87922428]\n",
            " [  3.58660398  -6.44429907]\n",
            " [-10.55604941  -4.14100148]\n",
            " [ -9.36777243  -5.46732677]\n",
            " [ -8.25251125  -3.19525957]\n",
            " [  4.83489747 -10.83225577]\n",
            " [  3.94829045 -10.05526389]\n",
            " [ -9.42542209  -3.32103661]\n",
            " [  4.26394042 -10.98539635]\n",
            " [ -8.19519393  -4.75554553]\n",
            " [ -9.76134273  -2.5693806 ]\n",
            " [ -9.53346338  -2.00306867]\n",
            " [ -9.57477026  -6.59882474]\n",
            " [-10.29973033  -5.40504888]\n",
            " [  0.98770135  -9.05862657]\n",
            " [  5.6596621   -8.72143071]\n",
            " [  5.82214447  -8.94893826]\n",
            " [ -8.83069142  -3.90913184]\n",
            " [ -7.14404377  -2.80353936]\n",
            " [  4.67157561  -9.11563163]\n",
            " [  5.10385203 -10.19949361]\n",
            " [  3.95631177  -8.36659239]\n",
            " [  2.03939354 -10.67991139]\n",
            " [  6.83227831  -6.54379696]\n",
            " [ -8.73154565  -3.94889024]\n",
            " [  5.55440222 -10.46837599]\n",
            " [ -9.05410601  -3.07472555]\n",
            " [  4.08761376  -7.55221383]\n",
            " [  4.25806496  -7.97810979]\n",
            " [  3.97673071  -7.28438709]\n",
            " [  6.27964496  -8.64917167]\n",
            " [ -9.27253964  -4.49929235]\n",
            " [ -8.44905907  -5.93065993]\n",
            " [-10.68625063  -6.31460736]\n",
            " [ -9.58232485  -3.38119489]\n",
            " [ -8.54223383  -2.72442745]\n",
            " [ -7.9213649   -4.88730628]\n",
            " [  3.00227031  -8.6500949 ]\n",
            " [ -8.13103717  -6.27107132]\n",
            " [  4.94049641  -6.26167105]\n",
            " [ -7.09231201  -5.04488073]\n",
            " [ -7.77534622  -5.72589396]\n",
            " [-10.79723293  -3.93964325]\n",
            " [  5.70119472 -11.00112704]\n",
            " [  4.10988626  -9.22562003]\n",
            " [  2.73381852 -11.37857383]\n",
            " [ -8.66948495  -3.95290274]]\n"
          ],
          "name": "stdout"
        }
      ]
    },
    {
      "cell_type": "markdown",
      "metadata": {
        "id": "G6d-xYYolhAR"
      },
      "source": [
        "For SVM to work, we need to separate our data into 2 classes, say Group 1 represented by 1 and Group 2 by -1, instead of 1 and 0."
      ]
    },
    {
      "cell_type": "code",
      "metadata": {
        "id": "wu_fx4dAlgim",
        "colab": {
          "base_uri": "https://localhost:8080/"
        },
        "outputId": "1cae5d20-f4df-48e6-d549-9ddadd99d69d"
      },
      "source": [
        "posX = []\n",
        "negX = []\n",
        "for i,v in enumerate(y):\n",
        "  if v:\n",
        "    posX.append(X1[i])\n",
        "  else:\n",
        "    negX.append(X1[i])\n",
        "\n",
        "dataset = {-1:np.array(negX), 1:np.array(posX)}"
      ],
      "execution_count": 195,
      "outputs": [
        {
          "output_type": "stream",
          "text": [
            "[[ -7.67172953  -4.23295795]\n",
            " [-10.55604941  -4.14100148]\n",
            " [ -9.36777243  -5.46732677]\n",
            " [ -8.25251125  -3.19525957]\n",
            " [ -9.42542209  -3.32103661]\n",
            " [ -8.19519393  -4.75554553]\n",
            " [ -9.76134273  -2.5693806 ]\n",
            " [ -9.53346338  -2.00306867]\n",
            " [ -9.57477026  -6.59882474]\n",
            " [-10.29973033  -5.40504888]\n",
            " [ -8.83069142  -3.90913184]\n",
            " [ -7.14404377  -2.80353936]\n",
            " [ -8.73154565  -3.94889024]\n",
            " [ -9.05410601  -3.07472555]\n",
            " [ -9.27253964  -4.49929235]\n",
            " [ -8.44905907  -5.93065993]\n",
            " [-10.68625063  -6.31460736]\n",
            " [ -9.58232485  -3.38119489]\n",
            " [ -8.54223383  -2.72442745]\n",
            " [ -7.9213649   -4.88730628]\n",
            " [ -8.13103717  -6.27107132]\n",
            " [ -7.09231201  -5.04488073]\n",
            " [ -7.77534622  -5.72589396]\n",
            " [-10.79723293  -3.93964325]\n",
            " [ -8.66948495  -3.95290274]\n",
            " [  3.88210802  -9.70697582]\n",
            " [  4.91752119  -8.67045708]\n",
            " [  5.09160249  -8.87922428]\n",
            " [  3.58660398  -6.44429907]\n",
            " [  4.83489747 -10.83225577]\n",
            " [  3.94829045 -10.05526389]\n",
            " [  4.26394042 -10.98539635]\n",
            " [  0.98770135  -9.05862657]\n",
            " [  5.6596621   -8.72143071]\n",
            " [  5.82214447  -8.94893826]\n",
            " [  4.67157561  -9.11563163]\n",
            " [  5.10385203 -10.19949361]\n",
            " [  3.95631177  -8.36659239]\n",
            " [  2.03939354 -10.67991139]\n",
            " [  6.83227831  -6.54379696]\n",
            " [  5.55440222 -10.46837599]\n",
            " [  4.08761376  -7.55221383]\n",
            " [  4.25806496  -7.97810979]\n",
            " [  3.97673071  -7.28438709]\n",
            " [  6.27964496  -8.64917167]\n",
            " [  3.00227031  -8.6500949 ]\n",
            " [  4.94049641  -6.26167105]\n",
            " [  5.70119472 -11.00112704]\n",
            " [  4.10988626  -9.22562003]\n",
            " [  2.73381852 -11.37857383]]\n"
          ],
          "name": "stdout"
        }
      ]
    },
    {
      "cell_type": "markdown",
      "metadata": {
        "id": "_3A6OwqG9jsp"
      },
      "source": [
        "The SVM hyperplane (decision boundary) is defined by the weight vector, $\\vec{w}$, and the bias, $b$ as:\n",
        "\n",
        "$$\\vec{w}\\cdot \\vec{x} - b = 0$$\n",
        "\n",
        "In the case of perfect separation (like we have taken) hyperplane(line in our case) is chosen so that we have maximum margin from the closest points.\n",
        "\n",
        "While making a prediction: \n",
        ">Substituting a point from Group 1 (which we represent by +1) should give :\n",
        "$$ \\vec{w} \\cdot \\vec{x_i} + b \\geq 0$$\n",
        "\n",
        ">Substituting a point from Group 2 (which we represent by (-1)) should give:\n",
        "$$ \\vec{w} \\cdot \\vec{x_i} + b < 0 $$\n",
        "\n",
        "In either case, the support vectors satisfy \n",
        "$$\\vec{w} \\cdot \\vec{x_i} + b = \\pm 1$$\n",
        "\n",
        "\n",
        "As the data is labelled, we can judge if the prediction is correct or not by:  \n",
        "$$\n",
        "y_i \\times (\\vec{w} \\cdot \\vec{x} + b) = \\left\\{ \n",
        "  \\begin{array}\\\\\n",
        "  \\geq0 & \\mbox{if } \\ correct \\\\\n",
        "  <0 & \\mbox{if } \\ incorrect \\\\\n",
        "  \\end{array}\n",
        "  \\right.\n",
        "$$\n",
        "where $y_i$ represents the label.\n",
        " "
      ]
    },
    {
      "cell_type": "markdown",
      "metadata": {
        "id": "LjMVJYDtxK6N"
      },
      "source": [
        "##Implementation 1\n",
        "\n",
        "reference: Sentdex"
      ]
    },
    {
      "cell_type": "code",
      "metadata": {
        "id": "kwMbRZd6xOaa"
      },
      "source": [
        "class Support_Vector_Machine:\n",
        "    def __init__(self, visualization=True):\n",
        "        self.visualization = visualization\n",
        "        self.colors = {1:'g',-1:'b'}\n",
        "        if self.visualization:\n",
        "            self.fig = plt.figure()\n",
        "            self.ax = self.fig.add_subplot(1,1,1)\n",
        "    # train\n",
        "    def fit(self, data):\n",
        "        self.data = data\n",
        "        opt_dict = {}\n",
        "\n",
        "        transforms = [[1,1],\n",
        "                      [-1,1],\n",
        "                      [-1,-1],\n",
        "                      [1,-1]]\n",
        "\n",
        "        maxval = float('-inf')\n",
        "        minval = float('+inf')\n",
        "\n",
        "        \n",
        "        for elem in self.data:\n",
        "          if np.amax(self.data[elem])>maxval:\n",
        "            self.maxval = np.amax(self.data[elem])\n",
        "            # print(self.maxval)\n",
        "          \n",
        "          if np.amin(self.data[elem])<minval:\n",
        "            self.minval = np.amin(self.data[elem])\n",
        "            # print(f\"Min {self.minval}\")\n",
        "\n",
        "        all_data = None\n",
        "\n",
        "        step_sizes = [self.maxval * 0.01,self.maxval*0.005]\n",
        "        # self.maxval * 0.01,\n",
        "\n",
        "        b_range_multiple = 2\n",
        "        b_multiple = 5\n",
        "        latest_optimum = self.maxval*10\n",
        "        \n",
        "        for step in step_sizes:\n",
        "            w = np.array([latest_optimum,latest_optimum])\n",
        "            optimized = False\n",
        "            while not optimized:\n",
        "                for b in np.arange(-1*(self.maxval*b_range_multiple),\n",
        "                                   self.maxval*b_range_multiple,\n",
        "                                   step*b_multiple):\n",
        "                    for transformation in transforms:\n",
        "                        w_t = w*transformation\n",
        "                        found_option = True\n",
        "                        for i in self.data:\n",
        "                            for xi in self.data[i]:\n",
        "                                yi=i\n",
        "                                if not yi*(np.dot(w_t,xi)+b) >= 1:\n",
        "                                    found_option = False\n",
        "                                    \n",
        "                        if found_option:\n",
        "                            opt_dict[np.linalg.norm(w_t)] = [w_t,b]\n",
        "\n",
        "                if w[0] < 0:\n",
        "                    optimized = True\n",
        "                    # print(\"Optimized step!\")\n",
        "                else:\n",
        "                    w = w - step\n",
        "\n",
        "            norms = sorted([n for n in opt_dict])\n",
        "            opt_choice = opt_dict[norms[0]]\n",
        "            self.w = opt_choice[0]\n",
        "            self.b = opt_choice[1]\n",
        "            latest_optimum = opt_choice[0][0]+step*2\n",
        "                      \n",
        "\n",
        "    def predict(self,features):\n",
        "        classification = np.sign(np.dot(np.array(features),self.w)+self.b)\n",
        "        if classification !=0 and self.visualization:\n",
        "            self.ax.scatter(features[0], features[1], s=200, marker='*', c=self.colors[classification])\n",
        "        return classification\n",
        "\n",
        "    def visualize(self):\n",
        "\n",
        "        X_arr=[]\n",
        "        for elem in self.data:\n",
        "          obj = self.data[elem]\n",
        "          for point in obj:\n",
        "            X_arr.append(list(point))\n",
        "\n",
        "        X = np.array(X_arr)\n",
        "\n",
        "        [[self.ax.scatter(x[0],x[1],s=100,color=self.colors[i],linewidths=0) for x in self.data[i]] for i in self.data]\n",
        "        def hyperplane(x,w,b,v):\n",
        "            return (-w[0]*x-b+v) / w[1]\n",
        "\n",
        "        # datarange = (self.minval*0.9,self.maxval*1.1)\n",
        "        # hyp_x_min = datarange[0]\n",
        "        # hyp_x_max = datarange[1]\n",
        "\n",
        "        hyp_x_min = np.amin(X[:,0])\n",
        "        hyp_x_max = np.amax(X[:,0])\n",
        "\n",
        "        # positive support vector hyperplane\n",
        "        psv1 = hyperplane(hyp_x_min, self.w, self.b, 1)\n",
        "        psv2 = hyperplane(hyp_x_max, self.w, self.b, 1)\n",
        "        self.ax.plot([hyp_x_min,hyp_x_max],[psv1,psv2],'k',marker='o')\n",
        "\n",
        "        # negative support vector hyperplane\n",
        "        nsv1 = hyperplane(hyp_x_min, self.w, self.b, -1)\n",
        "        nsv2 = hyperplane(hyp_x_max, self.w, self.b, -1)\n",
        "        self.ax.plot([hyp_x_min,hyp_x_max],[nsv1,nsv2], 'k',marker='o')\n",
        "\n",
        "        #hyperplane\n",
        "        db1 = hyperplane(hyp_x_min, self.w, self.b, 0)\n",
        "        db2 = hyperplane(hyp_x_max, self.w, self.b, 0)\n",
        "        self.ax.plot([hyp_x_min,hyp_x_max],[db1,db2], 'y--')\n",
        "\n",
        "        # X_arr=[]\n",
        "        # for elem in self.data:\n",
        "        #   obj = self.data[elem]\n",
        "        #   for point in obj:\n",
        "        #     X_arr.append(list(point))\n",
        "\n",
        "        # X = np.array(X_arr)\n",
        "\n",
        "        x1_min = np.amin(X[:,1])\n",
        "        x1_max = np.amax(X[:,1])\n",
        "        self.ax.set_ylim([x1_min-2,x1_max+2])\n",
        "\n",
        "        plt.show()"
      ],
      "execution_count": 216,
      "outputs": []
    },
    {
      "cell_type": "code",
      "metadata": {
        "colab": {
          "base_uri": "https://localhost:8080/",
          "height": 265
        },
        "id": "OKnC-x1x0AqF",
        "outputId": "ed4ad186-6028-4577-87fb-bddcb5dbbeac"
      },
      "source": [
        "svm = Support_Vector_Machine()\n",
        "svm.fit(data=dataset)\n",
        "\n",
        "svm.visualize()"
      ],
      "execution_count": 217,
      "outputs": [
        {
          "output_type": "display_data",
          "data": {
            "image/png": "[encoded data removed]",
            "text/plain": [
              "<Figure size 432x288 with 1 Axes>"
            ]
          },
          "metadata": {
            "needs_background": "light"
          }
        }
      ]
    },
    {
      "cell_type": "markdown",
      "metadata": {
        "id": "ehx2bT08xFdT"
      },
      "source": [
        "##Implementation 2: **As shown in class**"
      ]
    },
    {
      "cell_type": "code",
      "metadata": {
        "id": "mw5dIMOSubGc"
      },
      "source": [
        "class SVM:\n",
        "\n",
        "    def __init__(self, learning_rate=0.001, lambda_param=0.01, n_iters=1000):\n",
        "        self.lr = learning_rate\n",
        "        self.lambda_param = lambda_param\n",
        "        self.n_iters = n_iters\n",
        "        self.w = None\n",
        "        self.b = None\n",
        "\n",
        "\n",
        "    def fit(self, X, y):\n",
        "        self.data = X\n",
        "        n_samples, n_features = X.shape\n",
        "        \n",
        "        y_ = np.where(y <= 0, -1, 1)\n",
        "        \n",
        "        self.w = np.zeros(n_features)\n",
        "        self.b = 0\n",
        "\n",
        "        for _ in range(self.n_iters):\n",
        "            for idx, x_i in enumerate(X):\n",
        "                condition = y_[idx] * (np.dot(x_i, self.w) - self.b) >= 1\n",
        "                if condition:\n",
        "                    self.w -= self.lr * (2 * self.lambda_param * self.w)\n",
        "                else:\n",
        "                    self.w -= self.lr * (2 * self.lambda_param * self.w - np.dot(x_i, y_[idx]))\n",
        "                    self.b -= self.lr * y_[idx]\n",
        "\n",
        "\n",
        "    def predict(self, X):\n",
        "        approx = np.dot(X, self.w) - self.b\n",
        "        return np.sign(approx)\n",
        "\n",
        "    def visualize_svm(self):\n",
        "      \"\"\"\n",
        "      Visualize the svm\n",
        "      \"\"\"\n",
        "\n",
        "      X = self.data\n",
        "      w = self.w\n",
        "      b = self.b\n",
        "\n",
        "      def get_hyperplane_value(x, w, b, offset):\n",
        "          return (-w[0] * x + b + offset) / w[1]\n",
        "      \n",
        "      fig = plt.figure(figsize=(10, 5))\n",
        "      ax = fig.add_subplot(1,1,1)\n",
        "      plt.scatter(X[:,0], X[:,1], marker='o',c=y)\n",
        "\n",
        "      x0_1 = np.amin(X[:,0])\n",
        "      x0_2 = np.amax(X[:,0])\n",
        "\n",
        "      x1_1 = get_hyperplane_value(x0_1, w, b, 0)\n",
        "      x1_2 = get_hyperplane_value(x0_2, w, b, 0)\n",
        "\n",
        "      x1_1_m = get_hyperplane_value(x0_1, w, b, -1)\n",
        "      x1_2_m = get_hyperplane_value(x0_2, w, b, -1)\n",
        "\n",
        "      x1_1_p = get_hyperplane_value(x0_1, w, b, 1)\n",
        "      x1_2_p = get_hyperplane_value(x0_2, w, b, 1)\n",
        "\n",
        "      ax.plot([x0_1, x0_2],[x1_1, x1_2], 'y--')\n",
        "      ax.plot([x0_1, x0_2],[x1_1_m, x1_2_m], 'k')\n",
        "      ax.plot([x0_1, x0_2],[x1_1_p, x1_2_p], 'k')\n",
        "\n",
        "      x1_min = np.amin(X[:,1])\n",
        "      x1_max = np.amax(X[:,1])\n",
        "      ax.set_ylim([x1_min-2,x1_max+2])\n",
        "      plt.tight_layout()\n",
        "\n",
        "      plt.show()"
      ],
      "execution_count": 152,
      "outputs": []
    },
    {
      "cell_type": "code",
      "metadata": {
        "colab": {
          "base_uri": "https://localhost:8080/",
          "height": 369
        },
        "id": "paPfpEgxumqz",
        "outputId": "1779e688-66bd-4dfa-d94c-179a8690c915"
      },
      "source": [
        "clf = SVM()\n",
        "clf.fit(X,y)\n",
        "\n",
        "clf.visualize_svm()"
      ],
      "execution_count": 153,
      "outputs": [
        {
          "output_type": "display_data",
          "data": {
            "image/png": "[encoded data removed]",
            "text/plain": [
              "<Figure size 720x360 with 1 Axes>"
            ]
          },
          "metadata": {
            "needs_background": "light"
          }
        }
      ]
    }
  ]
}