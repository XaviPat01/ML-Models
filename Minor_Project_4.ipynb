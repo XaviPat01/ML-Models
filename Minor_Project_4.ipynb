{
  "nbformat": 4,
  "nbformat_minor": 0,
  "metadata": {
    "colab": {
      "name": "Minor_Project_4.ipynb",
      "provenance": [],
      "collapsed_sections": [],
      "authorship_tag": "ABX9TyPPUAedJJ7ubg5f4md0f7uT",
      "include_colab_link": true
    },
    "kernelspec": {
      "name": "python3",
      "display_name": "Python 3"
    },
    "language_info": {
      "name": "python"
    }
  },
  "cells": [
    {
      "cell_type": "markdown",
      "metadata": {
        "id": "view-in-github",
        "colab_type": "text"
      },
      "source": [
        "<a href=\"https://colab.research.google.com/github/XaviPat01/ML_TechAnalogy_Workshop/blob/main/Minor_Project_4.ipynb\" target=\"_parent\"><img src=\"https://colab.research.google.com/assets/colab-badge.svg\" alt=\"Open In Colab\"/></a>"
      ]
    },
    {
      "cell_type": "markdown",
      "metadata": {
        "id": "1N0NkbvOce5H"
      },
      "source": [
        "# **Implementing SVM from scratch**\n",
        "> **Author**: Avi Patni\n",
        "\n",
        "Basic implementation of a **linear SVM** model using **numpy**\n",
        "\n",
        "For visualization, **matplotlib.pyplot**\n",
        "\n",
        "For producing a random dataset, **sklearn.datasets**"
      ]
    },
    {
      "cell_type": "code",
      "metadata": {
        "id": "v7CNRzuWdEmh"
      },
      "source": [
        "#Importing Necessary Libraries\n",
        "import numpy as np\n",
        "import mlxtend\n",
        "np.random.seed(21)\n",
        "import matplotlib.pyplot as plt\n",
        "import matplotlib.axes as axes\n",
        "from sklearn.datasets import make_blobs\n",
        "from sklearn.preprocessing import MinMaxScaler"
      ],
      "execution_count": 123,
      "outputs": []
    },
    {
      "cell_type": "markdown",
      "metadata": {
        "id": "TLMhAisgd3i0"
      },
      "source": [
        "We need a data-set to train and test our model\n",
        "\n",
        "We'll make one using sklearn.datasets.samples_generator"
      ]
    },
    {
      "cell_type": "code",
      "metadata": {
        "colab": {
          "base_uri": "https://localhost:8080/",
          "height": 265
        },
        "id": "X1xR2v5BdfnD",
        "outputId": "71722daa-fb60-4bc4-9cca-1115b1d12dbf"
      },
      "source": [
        "#Toy data-set\n",
        "\n",
        "(X,y) = make_blobs(n_samples = 50, n_features=2, centers=2, cluster_std = 1.2, random_state=21)\n",
        "X1 = np.array(X)\n",
        "Xvals = list(X1[:,0])\n",
        "\n",
        "plt.scatter(Xvals, X1[:,1], marker='o',c=y)\n",
        "plt.show()"
      ],
      "execution_count": 124,
      "outputs": [
        {
          "output_type": "display_data",
          "data": {
            "image/png": "[encoded data removed]",
            "text/plain": [
              "<Figure size 432x288 with 1 Axes>"
            ]
          },
          "metadata": {
            "needs_background": "light"
          }
        }
      ]
    },
    {
      "cell_type": "markdown",
      "metadata": {
        "id": "G6d-xYYolhAR"
      },
      "source": [
        "For SVM to work, we need to separate our data into 2 classes, say Group 1 represented by 1 and Group 2 by -1, instead of 1 and 0."
      ]
    },
    {
      "cell_type": "code",
      "metadata": {
        "id": "wu_fx4dAlgim"
      },
      "source": [
        "posX = []\n",
        "negX = []\n",
        "for i,v in enumerate(y):\n",
        "  if v:\n",
        "    posX.append(X[i])\n",
        "  else:\n",
        "    negX.append(X[i])\n",
        "\n",
        "dataset = {-1:np.array(negX), 1:np.array(posX)}"
      ],
      "execution_count": 125,
      "outputs": []
    },
    {
      "cell_type": "markdown",
      "metadata": {
        "id": "_3A6OwqG9jsp"
      },
      "source": [
        "The SVM hyperplane (decision boundary) is defined by the weight vector, $\\vec{w}$, and the bias, $b$ as:\n",
        "\n",
        "$$\\vec{w}\\cdot \\vec{x} - b = 0$$\n",
        "\n",
        "In the case of perfect separation (like we have taken) hyperplane(line in our case) is chosen so that we have maximum margin from the closest points.\n",
        "\n",
        "While making a prediction: \n",
        ">Substituting a point from Group 1 (which we represent by +1) should give :\n",
        "$$ \\vec{w} \\cdot \\vec{x_i} + b \\geq 0$$\n",
        "\n",
        ">Substituting a point from Group 2 (which we represent by (-1)) should give:\n",
        "$$ \\vec{w} \\cdot \\vec{x_i} + b < 0 $$\n",
        "\n",
        "In either case, the support vectors satisfy \n",
        "$$\\vec{w} \\cdot \\vec{x_i} + b = \\pm 1$$\n",
        "\n",
        "\n",
        "As the data is labelled, we can judge if the prediction is correct or not by:  \n",
        "$$\n",
        "y_i \\times (\\vec{w} \\cdot \\vec{x} + b) = \\left\\{ \n",
        "  \\begin{array}\\\\\n",
        "  \\geq0 & \\mbox{if } \\ correct \\\\\n",
        "  <0 & \\mbox{if } \\ incorrect \\\\\n",
        "  \\end{array}\n",
        "  \\right.\n",
        "$$\n",
        "where $y_i$ represents the label.\n",
        " "
      ]
    },
    {
      "cell_type": "markdown",
      "metadata": {
        "id": "LjMVJYDtxK6N"
      },
      "source": [
        "##Implementation 1\n",
        "\n",
        "reference: Sentdex"
      ]
    },
    {
      "cell_type": "code",
      "metadata": {
        "id": "kwMbRZd6xOaa"
      },
      "source": [
        "class Support_Vector_Machine:\n",
        "    def __init__(self, visualization=True):\n",
        "        self.visualization = visualization\n",
        "        self.colors = {1:'g',-1:'b'}\n",
        "        if self.visualization:\n",
        "            self.fig = plt.figure()\n",
        "            self.ax = self.fig.add_subplot(1,1,1)\n",
        "    # train\n",
        "    def fit(self, data):\n",
        "        self.data = data\n",
        "        opt_dict = {}\n",
        "\n",
        "        transforms = [[1,1],\n",
        "                      [-1,1],\n",
        "                      [-1,-1],\n",
        "                      [1,-1]]\n",
        "\n",
        "        maxval = float('-inf')\n",
        "        minval = float('+inf')\n",
        "\n",
        "        \n",
        "        for elem in self.data:\n",
        "          if np.amax(self.data[elem])>maxval:\n",
        "            self.maxval = np.amax(self.data[elem])\n",
        "            print(self.maxval)\n",
        "          \n",
        "          if np.amin(self.data[elem])<minval:\n",
        "            self.minval = np.amin(self.data[elem])\n",
        "            print(f\"Min {self.minval}\")\n",
        "\n",
        "        all_data = None\n",
        "\n",
        "        step_sizes = [self.maxval * 0.1,\n",
        "                      self.maxval * 0.01,\n",
        "                      ]\n",
        "\n",
        "        b_range_multiple = 2\n",
        "        b_multiple = 5\n",
        "        latest_optimum = self.maxval*10\n",
        "        \n",
        "        for step in step_sizes:\n",
        "            w = np.array([latest_optimum,latest_optimum])\n",
        "            optimized = False\n",
        "            while not optimized:\n",
        "                for b in np.arange(-1*(self.maxval*b_range_multiple),\n",
        "                                   self.maxval*b_range_multiple,\n",
        "                                   step*b_multiple):\n",
        "                    for transformation in transforms:\n",
        "                        w_t = w*transformation\n",
        "                        found_option = True\n",
        "                        for i in self.data:\n",
        "                            for xi in self.data[i]:\n",
        "                                yi=i\n",
        "                                if not yi*(np.dot(w_t,xi)+b) >= 1:\n",
        "                                    found_option = False\n",
        "                                    \n",
        "                        if found_option:\n",
        "                            opt_dict[np.linalg.norm(w_t)] = [w_t,b]\n",
        "\n",
        "                if w[0] < 0:\n",
        "                    optimized = True\n",
        "                    print('Optimized a step.')\n",
        "                else:\n",
        "                    w = w - step\n",
        "\n",
        "            norms = sorted([n for n in opt_dict])\n",
        "            opt_choice = opt_dict[norms[0]]\n",
        "            self.w = opt_choice[0]\n",
        "            self.b = opt_choice[1]\n",
        "            latest_optimum = opt_choice[0][0]+step*2\n",
        "                      \n",
        "\n",
        "    def predict(self,features):\n",
        "        classification = np.sign(np.dot(np.array(features),self.w)+self.b)\n",
        "        if classification !=0 and self.visualization:\n",
        "            self.ax.scatter(features[0], features[1], s=200, marker='*', c=self.colors[classification])\n",
        "        return classification\n",
        "\n",
        "    def visualize(self):\n",
        "        [[self.ax.scatter(x[0],x[1],s=100,color=self.colors[i],linewidths=0) for x in self.data[i]] for i in self.data]\n",
        "        def hyperplane(x,w,b,v):\n",
        "            return (-w[0]*x-b+v) / w[1]\n",
        "\n",
        "        datarange = (self.minval*0.9,self.maxval*1.1)\n",
        "        hyp_x_min = datarange[0]\n",
        "        hyp_x_max = datarange[1]\n",
        "\n",
        "        # positive support vector hyperplane\n",
        "        psv1 = hyperplane(hyp_x_min, self.w, self.b, 1)\n",
        "        psv2 = hyperplane(hyp_x_max, self.w, self.b, 1)\n",
        "        self.ax.plot([hyp_x_min,hyp_x_max],[psv1,psv2],'k',marker='o')\n",
        "\n",
        "        # negative support vector hyperplane\n",
        "        nsv1 = hyperplane(hyp_x_min, self.w, self.b, -1)\n",
        "        nsv2 = hyperplane(hyp_x_max, self.w, self.b, -1)\n",
        "        self.ax.plot([hyp_x_min,hyp_x_max],[nsv1,nsv2], 'k',marker='o')\n",
        "\n",
        "        #hyperplane\n",
        "        db1 = hyperplane(hyp_x_min, self.w, self.b, 0)\n",
        "        db2 = hyperplane(hyp_x_max, self.w, self.b, 0)\n",
        "        self.ax.plot([hyp_x_min,hyp_x_max],[db1,db2], 'y--')\n",
        "        "
      ],
      "execution_count": 126,
      "outputs": []
    },
    {
      "cell_type": "code",
      "metadata": {
        "colab": {
          "base_uri": "https://localhost:8080/",
          "height": 370
        },
        "id": "OKnC-x1x0AqF",
        "outputId": "1d89956a-ce92-41d8-a676-6628eb4e0038"
      },
      "source": [
        "svm = Support_Vector_Machine()\n",
        "svm.fit(data=dataset)\n",
        "\n",
        "svm.visualize()"
      ],
      "execution_count": 127,
      "outputs": [
        {
          "output_type": "stream",
          "text": [
            "-2.003068668082264\n",
            "Min -10.797232930211987\n",
            "6.832278306640327\n",
            "Min -11.378573826608338\n",
            "Optimized a step.\n",
            "Optimized a step.\n"
          ],
          "name": "stdout"
        },
        {
          "output_type": "display_data",
          "data": {
            "image/png": "[encoded data removed]",
            "text/plain": [
              "<Figure size 432x288 with 1 Axes>"
            ]
          },
          "metadata": {
            "needs_background": "light"
          }
        }
      ]
    },
    {
      "cell_type": "markdown",
      "metadata": {
        "id": "ehx2bT08xFdT"
      },
      "source": [
        "##Implementation 2: **As shown in class**"
      ]
    },
    {
      "cell_type": "code",
      "metadata": {
        "id": "mw5dIMOSubGc"
      },
      "source": [
        "class SVM:\n",
        "\n",
        "    def __init__(self, learning_rate=0.005, lambda_param=0.01, n_iters=10000):\n",
        "        self.lr = learning_rate\n",
        "        self.lambda_param = lambda_param\n",
        "        self.n_iters = n_iters\n",
        "        self.w = None\n",
        "        self.b = None\n",
        "\n",
        "\n",
        "    def fit(self, X, y):\n",
        "        n_samples, n_features = X.shape\n",
        "        \n",
        "        y_ = np.where(y <= 0, -1, 1)\n",
        "        \n",
        "        self.w = np.zeros(n_features)\n",
        "        self.b = 0\n",
        "\n",
        "        for _ in range(self.n_iters):\n",
        "            for idx, x_i in enumerate(X):\n",
        "                condition = y_[idx] * (np.dot(x_i, self.w) - self.b) >= 1\n",
        "                if condition:\n",
        "                    self.w -= self.lr * (2 * self.lambda_param * self.w)\n",
        "                else:\n",
        "                    self.w -= self.lr * (2 * self.lambda_param * self.w - np.dot(x_i, y_[idx]))\n",
        "                    self.b -= self.lr * y_[idx]\n",
        "\n",
        "\n",
        "    def predict(self, X):\n",
        "        approx = np.dot(X, self.w) - self.b\n",
        "        return np.sign(approx)"
      ],
      "execution_count": 129,
      "outputs": []
    },
    {
      "cell_type": "code",
      "metadata": {
        "id": "paPfpEgxumqz"
      },
      "source": [
        "clf = SVM()\n",
        "clf.fit(X,y)"
      ],
      "execution_count": 130,
      "outputs": []
    }
  ]
}